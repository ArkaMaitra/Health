{
 "cells": [
  {
   "cell_type": "code",
   "execution_count": 1,
   "id": "bc87bd22",
   "metadata": {},
   "outputs": [],
   "source": [
    "import numpy as np # Import numpy with the alias np\n",
    "import pandas as pd # Import pandas with the alias pd\n",
    "import matplotlib.pyplot as plt # Import matplotlib.pyplot with the alias plt\n",
    "from matplotlib.dates import DateFormatter # importing DateFormatter from matplotlib.dates\n",
    "pd.pandas.set_option('display.max_rows',None) # used for expanding the no of viible rows of dataset\n",
    "import seaborn as sns # Import seaborn with the alias sns\n",
    "from sklearn import preprocessing # importing preprocessing from sklearn\n",
    "import mplfinance as mpf # Import mplfinance with the alias mpf"
   ]
  },
  {
   "cell_type": "code",
   "execution_count": 2,
   "id": "67c30cbd",
   "metadata": {},
   "outputs": [
    {
     "data": {
      "text/html": [
       "<div>\n",
       "<style scoped>\n",
       "    .dataframe tbody tr th:only-of-type {\n",
       "        vertical-align: middle;\n",
       "    }\n",
       "\n",
       "    .dataframe tbody tr th {\n",
       "        vertical-align: top;\n",
       "    }\n",
       "\n",
       "    .dataframe thead th {\n",
       "        text-align: right;\n",
       "    }\n",
       "</style>\n",
       "<table border=\"1\" class=\"dataframe\">\n",
       "  <thead>\n",
       "    <tr style=\"text-align: right;\">\n",
       "      <th></th>\n",
       "      <th>DATE</th>\n",
       "      <th>TIME</th>\n",
       "      <th>DESCRIPTION</th>\n",
       "      <th>BPM</th>\n",
       "      <th>SPO2</th>\n",
       "    </tr>\n",
       "  </thead>\n",
       "  <tbody>\n",
       "    <tr>\n",
       "      <th>0</th>\n",
       "      <td>2022-08-05</td>\n",
       "      <td>03:27:18</td>\n",
       "      <td>Heart Rate &amp; SpO2</td>\n",
       "      <td>97.86</td>\n",
       "      <td>93</td>\n",
       "    </tr>\n",
       "    <tr>\n",
       "      <th>1</th>\n",
       "      <td>2022-08-05</td>\n",
       "      <td>03:27:21</td>\n",
       "      <td>Heart Rate &amp; SpO2</td>\n",
       "      <td>93.02</td>\n",
       "      <td>94</td>\n",
       "    </tr>\n",
       "    <tr>\n",
       "      <th>2</th>\n",
       "      <td>2022-08-05</td>\n",
       "      <td>03:27:22</td>\n",
       "      <td>Heart Rate &amp; SpO2</td>\n",
       "      <td>72.94</td>\n",
       "      <td>94</td>\n",
       "    </tr>\n",
       "    <tr>\n",
       "      <th>3</th>\n",
       "      <td>2022-08-05</td>\n",
       "      <td>03:27:23</td>\n",
       "      <td>Heart Rate &amp; SpO2</td>\n",
       "      <td>123.37</td>\n",
       "      <td>94</td>\n",
       "    </tr>\n",
       "    <tr>\n",
       "      <th>4</th>\n",
       "      <td>2022-08-05</td>\n",
       "      <td>03:27:24</td>\n",
       "      <td>Heart Rate &amp; SpO2</td>\n",
       "      <td>168.67</td>\n",
       "      <td>94</td>\n",
       "    </tr>\n",
       "  </tbody>\n",
       "</table>\n",
       "</div>"
      ],
      "text/plain": [
       "         DATE      TIME        DESCRIPTION     BPM  SPO2\n",
       "0  2022-08-05  03:27:18  Heart Rate & SpO2   97.86    93\n",
       "1  2022-08-05  03:27:21  Heart Rate & SpO2   93.02    94\n",
       "2  2022-08-05  03:27:22  Heart Rate & SpO2   72.94    94\n",
       "3  2022-08-05  03:27:23  Heart Rate & SpO2  123.37    94\n",
       "4  2022-08-05  03:27:24  Heart Rate & SpO2  168.67    94"
      ]
     },
     "execution_count": 2,
     "metadata": {},
     "output_type": "execute_result"
    }
   ],
   "source": [
    "data = pd.read_csv('C:/Users/SOUVIK/Downloads/dataset_new.csv') # for reading a dataset in specified location\n",
    "data.head() # to show the top 5 rows of the dataset"
   ]
  },
  {
   "cell_type": "code",
   "execution_count": 3,
   "id": "d34252d6",
   "metadata": {},
   "outputs": [],
   "source": [
    "data['TIME'] = data['DATE'] + ' ' + data['TIME'] # to break the time into date and time"
   ]
  },
  {
   "cell_type": "code",
   "execution_count": 4,
   "id": "3a41b831",
   "metadata": {},
   "outputs": [
    {
     "data": {
      "text/html": [
       "<div>\n",
       "<style scoped>\n",
       "    .dataframe tbody tr th:only-of-type {\n",
       "        vertical-align: middle;\n",
       "    }\n",
       "\n",
       "    .dataframe tbody tr th {\n",
       "        vertical-align: top;\n",
       "    }\n",
       "\n",
       "    .dataframe thead th {\n",
       "        text-align: right;\n",
       "    }\n",
       "</style>\n",
       "<table border=\"1\" class=\"dataframe\">\n",
       "  <thead>\n",
       "    <tr style=\"text-align: right;\">\n",
       "      <th></th>\n",
       "      <th>DATE</th>\n",
       "      <th>TIME</th>\n",
       "      <th>DESCRIPTION</th>\n",
       "      <th>BPM</th>\n",
       "      <th>SPO2</th>\n",
       "    </tr>\n",
       "  </thead>\n",
       "  <tbody>\n",
       "    <tr>\n",
       "      <th>0</th>\n",
       "      <td>2022-08-05</td>\n",
       "      <td>2022-08-05 03:27:18</td>\n",
       "      <td>Heart Rate &amp; SpO2</td>\n",
       "      <td>97.86</td>\n",
       "      <td>93</td>\n",
       "    </tr>\n",
       "    <tr>\n",
       "      <th>1</th>\n",
       "      <td>2022-08-05</td>\n",
       "      <td>2022-08-05 03:27:21</td>\n",
       "      <td>Heart Rate &amp; SpO2</td>\n",
       "      <td>93.02</td>\n",
       "      <td>94</td>\n",
       "    </tr>\n",
       "    <tr>\n",
       "      <th>2</th>\n",
       "      <td>2022-08-05</td>\n",
       "      <td>2022-08-05 03:27:22</td>\n",
       "      <td>Heart Rate &amp; SpO2</td>\n",
       "      <td>72.94</td>\n",
       "      <td>94</td>\n",
       "    </tr>\n",
       "    <tr>\n",
       "      <th>3</th>\n",
       "      <td>2022-08-05</td>\n",
       "      <td>2022-08-05 03:27:23</td>\n",
       "      <td>Heart Rate &amp; SpO2</td>\n",
       "      <td>123.37</td>\n",
       "      <td>94</td>\n",
       "    </tr>\n",
       "    <tr>\n",
       "      <th>4</th>\n",
       "      <td>2022-08-05</td>\n",
       "      <td>2022-08-05 03:27:24</td>\n",
       "      <td>Heart Rate &amp; SpO2</td>\n",
       "      <td>168.67</td>\n",
       "      <td>94</td>\n",
       "    </tr>\n",
       "  </tbody>\n",
       "</table>\n",
       "</div>"
      ],
      "text/plain": [
       "         DATE                 TIME        DESCRIPTION     BPM  SPO2\n",
       "0  2022-08-05  2022-08-05 03:27:18  Heart Rate & SpO2   97.86    93\n",
       "1  2022-08-05  2022-08-05 03:27:21  Heart Rate & SpO2   93.02    94\n",
       "2  2022-08-05  2022-08-05 03:27:22  Heart Rate & SpO2   72.94    94\n",
       "3  2022-08-05  2022-08-05 03:27:23  Heart Rate & SpO2  123.37    94\n",
       "4  2022-08-05  2022-08-05 03:27:24  Heart Rate & SpO2  168.67    94"
      ]
     },
     "execution_count": 4,
     "metadata": {},
     "output_type": "execute_result"
    }
   ],
   "source": [
    "data.head() # to show the top 5 rows of the dataset"
   ]
  },
  {
   "cell_type": "code",
   "execution_count": 5,
   "id": "0f3879f2",
   "metadata": {},
   "outputs": [
    {
     "data": {
      "text/html": [
       "<div>\n",
       "<style scoped>\n",
       "    .dataframe tbody tr th:only-of-type {\n",
       "        vertical-align: middle;\n",
       "    }\n",
       "\n",
       "    .dataframe tbody tr th {\n",
       "        vertical-align: top;\n",
       "    }\n",
       "\n",
       "    .dataframe thead th {\n",
       "        text-align: right;\n",
       "    }\n",
       "</style>\n",
       "<table border=\"1\" class=\"dataframe\">\n",
       "  <thead>\n",
       "    <tr style=\"text-align: right;\">\n",
       "      <th></th>\n",
       "      <th>DATE</th>\n",
       "      <th>TIME</th>\n",
       "      <th>DESCRIPTION</th>\n",
       "      <th>BPM</th>\n",
       "      <th>SPO2</th>\n",
       "    </tr>\n",
       "  </thead>\n",
       "  <tbody>\n",
       "    <tr>\n",
       "      <th>0</th>\n",
       "      <td>2022-08-05</td>\n",
       "      <td>2022-08-05 03:27:18</td>\n",
       "      <td>Heart Rate &amp; SpO2</td>\n",
       "      <td>97.86</td>\n",
       "      <td>93</td>\n",
       "    </tr>\n",
       "    <tr>\n",
       "      <th>1</th>\n",
       "      <td>2022-08-05</td>\n",
       "      <td>2022-08-05 03:27:21</td>\n",
       "      <td>Heart Rate &amp; SpO2</td>\n",
       "      <td>93.02</td>\n",
       "      <td>94</td>\n",
       "    </tr>\n",
       "    <tr>\n",
       "      <th>2</th>\n",
       "      <td>2022-08-05</td>\n",
       "      <td>2022-08-05 03:27:22</td>\n",
       "      <td>Heart Rate &amp; SpO2</td>\n",
       "      <td>72.94</td>\n",
       "      <td>94</td>\n",
       "    </tr>\n",
       "    <tr>\n",
       "      <th>3</th>\n",
       "      <td>2022-08-05</td>\n",
       "      <td>2022-08-05 03:27:23</td>\n",
       "      <td>Heart Rate &amp; SpO2</td>\n",
       "      <td>123.37</td>\n",
       "      <td>94</td>\n",
       "    </tr>\n",
       "    <tr>\n",
       "      <th>4</th>\n",
       "      <td>2022-08-05</td>\n",
       "      <td>2022-08-05 03:27:24</td>\n",
       "      <td>Heart Rate &amp; SpO2</td>\n",
       "      <td>168.67</td>\n",
       "      <td>94</td>\n",
       "    </tr>\n",
       "  </tbody>\n",
       "</table>\n",
       "</div>"
      ],
      "text/plain": [
       "         DATE                 TIME        DESCRIPTION     BPM  SPO2\n",
       "0  2022-08-05  2022-08-05 03:27:18  Heart Rate & SpO2   97.86    93\n",
       "1  2022-08-05  2022-08-05 03:27:21  Heart Rate & SpO2   93.02    94\n",
       "2  2022-08-05  2022-08-05 03:27:22  Heart Rate & SpO2   72.94    94\n",
       "3  2022-08-05  2022-08-05 03:27:23  Heart Rate & SpO2  123.37    94\n",
       "4  2022-08-05  2022-08-05 03:27:24  Heart Rate & SpO2  168.67    94"
      ]
     },
     "execution_count": 5,
     "metadata": {},
     "output_type": "execute_result"
    }
   ],
   "source": [
    "data.columns = ['DATE','TIME','DESCRIPTION','BPM','SPO2'] # to show only the specified columns\n",
    "data.head() # to show the top 5 rows of the dataset"
   ]
  },
  {
   "cell_type": "code",
   "execution_count": 6,
   "id": "c79da1e5",
   "metadata": {},
   "outputs": [
    {
     "data": {
      "text/html": [
       "<div>\n",
       "<style scoped>\n",
       "    .dataframe tbody tr th:only-of-type {\n",
       "        vertical-align: middle;\n",
       "    }\n",
       "\n",
       "    .dataframe tbody tr th {\n",
       "        vertical-align: top;\n",
       "    }\n",
       "\n",
       "    .dataframe thead th {\n",
       "        text-align: right;\n",
       "    }\n",
       "</style>\n",
       "<table border=\"1\" class=\"dataframe\">\n",
       "  <thead>\n",
       "    <tr style=\"text-align: right;\">\n",
       "      <th></th>\n",
       "      <th>TIME</th>\n",
       "      <th>BPM</th>\n",
       "      <th>SPO2</th>\n",
       "    </tr>\n",
       "  </thead>\n",
       "  <tbody>\n",
       "    <tr>\n",
       "      <th>0</th>\n",
       "      <td>2022-08-05 03:27:18</td>\n",
       "      <td>97.86</td>\n",
       "      <td>93</td>\n",
       "    </tr>\n",
       "    <tr>\n",
       "      <th>1</th>\n",
       "      <td>2022-08-05 03:27:21</td>\n",
       "      <td>93.02</td>\n",
       "      <td>94</td>\n",
       "    </tr>\n",
       "    <tr>\n",
       "      <th>2</th>\n",
       "      <td>2022-08-05 03:27:22</td>\n",
       "      <td>72.94</td>\n",
       "      <td>94</td>\n",
       "    </tr>\n",
       "    <tr>\n",
       "      <th>3</th>\n",
       "      <td>2022-08-05 03:27:23</td>\n",
       "      <td>123.37</td>\n",
       "      <td>94</td>\n",
       "    </tr>\n",
       "    <tr>\n",
       "      <th>4</th>\n",
       "      <td>2022-08-05 03:27:24</td>\n",
       "      <td>168.67</td>\n",
       "      <td>94</td>\n",
       "    </tr>\n",
       "  </tbody>\n",
       "</table>\n",
       "</div>"
      ],
      "text/plain": [
       "                  TIME     BPM  SPO2\n",
       "0  2022-08-05 03:27:18   97.86    93\n",
       "1  2022-08-05 03:27:21   93.02    94\n",
       "2  2022-08-05 03:27:22   72.94    94\n",
       "3  2022-08-05 03:27:23  123.37    94\n",
       "4  2022-08-05 03:27:24  168.67    94"
      ]
     },
     "execution_count": 6,
     "metadata": {},
     "output_type": "execute_result"
    }
   ],
   "source": [
    "data.drop(['DESCRIPTION','DATE'],axis=1,inplace=True) # to drop labels from the columns and to do the operation inplace and return None\n",
    "data.head() # to show the top 5 rows of the dataset"
   ]
  },
  {
   "cell_type": "code",
   "execution_count": 7,
   "id": "f627a62e",
   "metadata": {},
   "outputs": [
    {
     "data": {
      "text/html": [
       "<div>\n",
       "<style scoped>\n",
       "    .dataframe tbody tr th:only-of-type {\n",
       "        vertical-align: middle;\n",
       "    }\n",
       "\n",
       "    .dataframe tbody tr th {\n",
       "        vertical-align: top;\n",
       "    }\n",
       "\n",
       "    .dataframe thead th {\n",
       "        text-align: right;\n",
       "    }\n",
       "</style>\n",
       "<table border=\"1\" class=\"dataframe\">\n",
       "  <thead>\n",
       "    <tr style=\"text-align: right;\">\n",
       "      <th></th>\n",
       "      <th>TIME</th>\n",
       "      <th>BPM</th>\n",
       "      <th>SPO2</th>\n",
       "    </tr>\n",
       "  </thead>\n",
       "  <tbody>\n",
       "    <tr>\n",
       "      <th>0</th>\n",
       "      <td>2022-08-05 03:27:18</td>\n",
       "      <td>97.86</td>\n",
       "      <td>93</td>\n",
       "    </tr>\n",
       "    <tr>\n",
       "      <th>1</th>\n",
       "      <td>2022-08-05 03:27:21</td>\n",
       "      <td>93.02</td>\n",
       "      <td>94</td>\n",
       "    </tr>\n",
       "    <tr>\n",
       "      <th>2</th>\n",
       "      <td>2022-08-05 03:27:22</td>\n",
       "      <td>72.94</td>\n",
       "      <td>94</td>\n",
       "    </tr>\n",
       "    <tr>\n",
       "      <th>3</th>\n",
       "      <td>2022-08-05 03:27:23</td>\n",
       "      <td>123.37</td>\n",
       "      <td>94</td>\n",
       "    </tr>\n",
       "    <tr>\n",
       "      <th>4</th>\n",
       "      <td>2022-08-05 03:27:24</td>\n",
       "      <td>168.67</td>\n",
       "      <td>94</td>\n",
       "    </tr>\n",
       "  </tbody>\n",
       "</table>\n",
       "</div>"
      ],
      "text/plain": [
       "                  TIME     BPM  SPO2\n",
       "0  2022-08-05 03:27:18   97.86    93\n",
       "1  2022-08-05 03:27:21   93.02    94\n",
       "2  2022-08-05 03:27:22   72.94    94\n",
       "3  2022-08-05 03:27:23  123.37    94\n",
       "4  2022-08-05 03:27:24  168.67    94"
      ]
     },
     "execution_count": 7,
     "metadata": {},
     "output_type": "execute_result"
    }
   ],
   "source": [
    "import re # importing regular expression\n",
    "def clean_time(text):\n",
    "    # 1. Make a space\n",
    "    review = re.sub('[^a-zA-Z0-9-.:]',' ', text)\n",
    "    return (review)\n",
    "\n",
    "data['TIME'] = data['TIME'].apply(lambda x: clean_time(x))\n",
    "data.head() # to show the top 5 rows of the dataframe"
   ]
  },
  {
   "cell_type": "code",
   "execution_count": 8,
   "id": "106f88b6",
   "metadata": {},
   "outputs": [],
   "source": [
    "data_copy = data.copy() # to return a copy of the Dataset"
   ]
  },
  {
   "cell_type": "code",
   "execution_count": 9,
   "id": "f1d54064",
   "metadata": {},
   "outputs": [
    {
     "data": {
      "text/html": [
       "<div>\n",
       "<style scoped>\n",
       "    .dataframe tbody tr th:only-of-type {\n",
       "        vertical-align: middle;\n",
       "    }\n",
       "\n",
       "    .dataframe tbody tr th {\n",
       "        vertical-align: top;\n",
       "    }\n",
       "\n",
       "    .dataframe thead th {\n",
       "        text-align: right;\n",
       "    }\n",
       "</style>\n",
       "<table border=\"1\" class=\"dataframe\">\n",
       "  <thead>\n",
       "    <tr style=\"text-align: right;\">\n",
       "      <th></th>\n",
       "      <th>TIME</th>\n",
       "      <th>BPM</th>\n",
       "      <th>SPO2</th>\n",
       "      <th>MINUTE</th>\n",
       "      <th>HOUR</th>\n",
       "      <th>SECOND</th>\n",
       "    </tr>\n",
       "  </thead>\n",
       "  <tbody>\n",
       "    <tr>\n",
       "      <th>0</th>\n",
       "      <td>2022-08-05 03:27:18</td>\n",
       "      <td>97.86</td>\n",
       "      <td>93</td>\n",
       "      <td>27</td>\n",
       "      <td>3</td>\n",
       "      <td>18</td>\n",
       "    </tr>\n",
       "    <tr>\n",
       "      <th>1</th>\n",
       "      <td>2022-08-05 03:27:21</td>\n",
       "      <td>93.02</td>\n",
       "      <td>94</td>\n",
       "      <td>27</td>\n",
       "      <td>3</td>\n",
       "      <td>21</td>\n",
       "    </tr>\n",
       "    <tr>\n",
       "      <th>2</th>\n",
       "      <td>2022-08-05 03:27:22</td>\n",
       "      <td>72.94</td>\n",
       "      <td>94</td>\n",
       "      <td>27</td>\n",
       "      <td>3</td>\n",
       "      <td>22</td>\n",
       "    </tr>\n",
       "    <tr>\n",
       "      <th>3</th>\n",
       "      <td>2022-08-05 03:27:23</td>\n",
       "      <td>123.37</td>\n",
       "      <td>94</td>\n",
       "      <td>27</td>\n",
       "      <td>3</td>\n",
       "      <td>23</td>\n",
       "    </tr>\n",
       "    <tr>\n",
       "      <th>4</th>\n",
       "      <td>2022-08-05 03:27:24</td>\n",
       "      <td>168.67</td>\n",
       "      <td>94</td>\n",
       "      <td>27</td>\n",
       "      <td>3</td>\n",
       "      <td>24</td>\n",
       "    </tr>\n",
       "    <tr>\n",
       "      <th>5</th>\n",
       "      <td>2022-08-05 03:27:25</td>\n",
       "      <td>105.15</td>\n",
       "      <td>94</td>\n",
       "      <td>27</td>\n",
       "      <td>3</td>\n",
       "      <td>25</td>\n",
       "    </tr>\n",
       "    <tr>\n",
       "      <th>6</th>\n",
       "      <td>2022-08-05 03:27:26</td>\n",
       "      <td>97.33</td>\n",
       "      <td>94</td>\n",
       "      <td>27</td>\n",
       "      <td>3</td>\n",
       "      <td>26</td>\n",
       "    </tr>\n",
       "    <tr>\n",
       "      <th>7</th>\n",
       "      <td>2022-08-05 03:27:27</td>\n",
       "      <td>94.55</td>\n",
       "      <td>33</td>\n",
       "      <td>27</td>\n",
       "      <td>3</td>\n",
       "      <td>27</td>\n",
       "    </tr>\n",
       "    <tr>\n",
       "      <th>8</th>\n",
       "      <td>2022-08-05 03:27:28</td>\n",
       "      <td>94.34</td>\n",
       "      <td>33</td>\n",
       "      <td>27</td>\n",
       "      <td>3</td>\n",
       "      <td>28</td>\n",
       "    </tr>\n",
       "    <tr>\n",
       "      <th>9</th>\n",
       "      <td>2022-08-05 03:27:29</td>\n",
       "      <td>84.95</td>\n",
       "      <td>94</td>\n",
       "      <td>27</td>\n",
       "      <td>3</td>\n",
       "      <td>29</td>\n",
       "    </tr>\n",
       "  </tbody>\n",
       "</table>\n",
       "</div>"
      ],
      "text/plain": [
       "                 TIME     BPM  SPO2  MINUTE  HOUR  SECOND\n",
       "0 2022-08-05 03:27:18   97.86    93      27     3      18\n",
       "1 2022-08-05 03:27:21   93.02    94      27     3      21\n",
       "2 2022-08-05 03:27:22   72.94    94      27     3      22\n",
       "3 2022-08-05 03:27:23  123.37    94      27     3      23\n",
       "4 2022-08-05 03:27:24  168.67    94      27     3      24\n",
       "5 2022-08-05 03:27:25  105.15    94      27     3      25\n",
       "6 2022-08-05 03:27:26   97.33    94      27     3      26\n",
       "7 2022-08-05 03:27:27   94.55    33      27     3      27\n",
       "8 2022-08-05 03:27:28   94.34    33      27     3      28\n",
       "9 2022-08-05 03:27:29   84.95    94      27     3      29"
      ]
     },
     "execution_count": 9,
     "metadata": {},
     "output_type": "execute_result"
    }
   ],
   "source": [
    "data['TIME'] = pd.to_datetime(data['TIME']) \n",
    "data['MINUTE'] = data['TIME'].dt.minute # returns minute in a separate column\n",
    "data['HOUR'] = data['TIME'].dt.hour # returns hour in a separate column\n",
    "data['SECOND'] = data['TIME'].dt.second # returns second in a separate column\n",
    "data.head(10) # to show the top 10 rows of the dataset"
   ]
  },
  {
   "cell_type": "code",
   "execution_count": 10,
   "id": "33b52bdd",
   "metadata": {},
   "outputs": [
    {
     "data": {
      "text/plain": [
       "(3703, 6)"
      ]
     },
     "execution_count": 10,
     "metadata": {},
     "output_type": "execute_result"
    }
   ],
   "source": [
    "data.shape # returns the number of rows and columns of the modified dataset"
   ]
  },
  {
   "cell_type": "code",
   "execution_count": 11,
   "id": "70a02bb6",
   "metadata": {},
   "outputs": [
    {
     "name": "stdout",
     "output_type": "stream",
     "text": [
      "<class 'pandas.core.frame.DataFrame'>\n",
      "RangeIndex: 3703 entries, 0 to 3702\n",
      "Data columns (total 6 columns):\n",
      " #   Column  Non-Null Count  Dtype         \n",
      "---  ------  --------------  -----         \n",
      " 0   TIME    3703 non-null   datetime64[ns]\n",
      " 1   BPM     3703 non-null   float64       \n",
      " 2   SPO2    3703 non-null   float64       \n",
      " 3   MINUTE  3703 non-null   int64         \n",
      " 4   HOUR    3703 non-null   int64         \n",
      " 5   SECOND  3703 non-null   int64         \n",
      "dtypes: datetime64[ns](1), float64(2), int64(3)\n",
      "memory usage: 173.7 KB\n"
     ]
    }
   ],
   "source": [
    "data['SPO2'] = data['SPO2'].astype('float64') # sets the datatype to float\n",
    "data.info() # returns detailed information about the dataset"
   ]
  },
  {
   "cell_type": "code",
   "execution_count": 12,
   "id": "79df0f40",
   "metadata": {},
   "outputs": [
    {
     "data": {
      "text/plain": [
       "Text(0, 0.5, '<----------------Heart Beat---------------->')"
      ]
     },
     "execution_count": 12,
     "metadata": {},
     "output_type": "execute_result"
    },
    {
     "data": {
      "image/png": "[encoded data removed]",
      "text/plain": [
       "<Figure size 432x288 with 1 Axes>"
      ]
     },
     "metadata": {
      "needs_background": "light"
     },
     "output_type": "display_data"
    }
   ],
   "source": [
    "plt.plot_date(data['TIME'], data['BPM'], linestyle='solid') # to plot 'TIME' and 'BPM' where the linestyle is solid\n",
    "plt.title('Heart Beat comparison w.r.t Time') # title of the plot\n",
    "plt.xlabel('<----------------Time---------------->') # to specify the x-axis of the plot\n",
    "plt.ylabel('<----------------Heart Beat---------------->') # to specify the y-axis of the plot"
   ]
  },
  {
   "cell_type": "code",
   "execution_count": 13,
   "id": "5b73de9f",
   "metadata": {},
   "outputs": [
    {
     "data": {
      "text/plain": [
       "Text(0, 0.5, '<----------------SPO2---------------->')"
      ]
     },
     "execution_count": 13,
     "metadata": {},
     "output_type": "execute_result"
    },
    {
     "data": {
      "image/png": "[encoded data removed]",
      "text/plain": [
       "<Figure size 432x288 with 1 Axes>"
      ]
     },
     "metadata": {
      "needs_background": "light"
     },
     "output_type": "display_data"
    }
   ],
   "source": [
    "plt.plot_date(data['TIME'], data['SPO2'], linestyle='solid') # to plot 'TIME' and 'SPO2' where the linestyle is solid\n",
    "plt.title('SPO2 comparison w.r.t Time') # title of the plot\n",
    "plt.xlabel('<----------------Time---------------->') # to specify the x-axis of the plot\n",
    "plt.ylabel('<----------------SPO2---------------->') # to specify the y-axis of the plot"
   ]
  },
  {
   "cell_type": "code",
   "execution_count": 14,
   "id": "20147dff",
   "metadata": {},
   "outputs": [
    {
     "name": "stderr",
     "output_type": "stream",
     "text": [
      "C:\\Users\\SOUVIK\\AppData\\Local\\Temp/ipykernel_11744/1269191312.py:1: UserWarning: marker is redundantly defined by the 'marker' keyword argument and the fmt string \"o\" (-> marker='o'). The keyword argument will take precedence.\n",
      "  plt.plot_date(data['TIME'], data['SPO2'], linestyle='solid', marker = '')\n"
     ]
    },
    {
     "data": {
      "text/plain": [
       "Text(0, 0.5, '<----------------SPO2---------------->')"
      ]
     },
     "execution_count": 14,
     "metadata": {},
     "output_type": "execute_result"
    },
    {
     "data": {
      "image/png": "[encoded data removed]",
      "text/plain": [
       "<Figure size 432x288 with 1 Axes>"
      ]
     },
     "metadata": {
      "needs_background": "light"
     },
     "output_type": "display_data"
    }
   ],
   "source": [
    "plt.plot_date(data['TIME'], data['SPO2'], linestyle='solid', marker = '')  # to plot 'TIME' and 'SPO2' where the linestyle is solid and plots as markers\n",
    "plt.title('SPO2 comparison w.r.t Time') # title of the plot\n",
    "plt.xlabel('<----------------Time---------------->') # to specify the x-axis of the plot\n",
    "plt.ylabel('<----------------SPO2---------------->') # to specify the y-axis of the plot"
   ]
  },
  {
   "cell_type": "code",
   "execution_count": 15,
   "id": "64510c20",
   "metadata": {},
   "outputs": [],
   "source": [
    "data_length = len(data['MINUTE'])-1"
   ]
  },
  {
   "cell_type": "code",
   "execution_count": 16,
   "id": "a60588bf",
   "metadata": {},
   "outputs": [],
   "source": [
    "#New Time\n",
    "\n",
    "i=0\n",
    "time = []\n",
    "\n",
    "while(i<data_length):\n",
    "    a=data['MINUTE'][i]\n",
    "    j=i\n",
    "    count = 0\n",
    "    s = 0\n",
    "    mean = 0\n",
    "    while(j<data_length):\n",
    "        if(a == data['MINUTE'][j]): \n",
    "            count = count + 1\n",
    "            j=j+1\n",
    "        else:\n",
    "            break\n",
    "    \n",
    "    time.append(data_copy['TIME'][j-1])\n",
    "    i=i+count"
   ]
  },
  {
   "cell_type": "code",
   "execution_count": 17,
   "id": "331da019",
   "metadata": {},
   "outputs": [],
   "source": [
    "#New Hour\n",
    "\n",
    "i=0\n",
    "hour = []\n",
    "\n",
    "while(i<data_length):\n",
    "    a=data['MINUTE'][i]\n",
    "    j=i\n",
    "    count = 0\n",
    "    s = 0\n",
    "    mean = 0\n",
    "    while(j<data_length):\n",
    "        if(a == data['MINUTE'][j]): \n",
    "            count = count + 1\n",
    "            j=j+1\n",
    "        else:\n",
    "            break\n",
    "    \n",
    "    hour.append(data['HOUR'][j-1])\n",
    "    i=i+count"
   ]
  },
  {
   "cell_type": "code",
   "execution_count": 18,
   "id": "ad05ee90",
   "metadata": {},
   "outputs": [],
   "source": [
    "#New Minute\n",
    "\n",
    "i=0\n",
    "minute = []\n",
    "\n",
    "while(i<data_length):\n",
    "    a=data['MINUTE'][i]\n",
    "    j=i\n",
    "    count = 0\n",
    "    s = 0\n",
    "    mean = 0\n",
    "    while(j<data_length):\n",
    "        if(a == data['MINUTE'][j]): \n",
    "            count = count + 1\n",
    "            j=j+1\n",
    "        else:\n",
    "            break\n",
    "    \n",
    "    minute.append(data['MINUTE'][j-1])\n",
    "    i=i+count"
   ]
  },
  {
   "cell_type": "code",
   "execution_count": 19,
   "id": "a3897022",
   "metadata": {},
   "outputs": [],
   "source": [
    "#New Second\n",
    "\n",
    "i=0\n",
    "second = []\n",
    "\n",
    "while(i<data_length):\n",
    "    a=data['MINUTE'][i]\n",
    "    j=i\n",
    "    count = 0\n",
    "    s = 0\n",
    "    mean = 0\n",
    "    while(j<data_length):\n",
    "        if(a == data['MINUTE'][j]): \n",
    "            count = count + 1\n",
    "            j=j+1\n",
    "        else:\n",
    "            break\n",
    "    \n",
    "    second.append(data['SECOND'][j-1])\n",
    "    i=i+count"
   ]
  },
  {
   "cell_type": "code",
   "execution_count": 20,
   "id": "3ce20f59",
   "metadata": {},
   "outputs": [
    {
     "name": "stdout",
     "output_type": "stream",
     "text": [
      "63\n",
      "63\n",
      "63\n",
      "63\n"
     ]
    }
   ],
   "source": [
    "print(len(time))\n",
    "print(len(hour))\n",
    "print(len(minute))\n",
    "print(len(second))"
   ]
  },
  {
   "cell_type": "code",
   "execution_count": 21,
   "id": "a66f6a69",
   "metadata": {},
   "outputs": [],
   "source": [
    "def mean(data,feature):\n",
    "    i=0\n",
    "    spo2_mean=[]\n",
    "    while(i<data_length):\n",
    "        a=data['MINUTE'][i]\n",
    "        j=i\n",
    "        count = 0\n",
    "        s = 0\n",
    "        mean = 0\n",
    "        while(j<data_length):\n",
    "            if(a == data['MINUTE'][j]):\n",
    "                s = data[feature][j] + s\n",
    "                count = count + 1\n",
    "                #spo2_mean = (s/count).astype(int)\n",
    "                #spo2_mean.append(s/count)\n",
    "                j=j+1\n",
    "            else:\n",
    "                break\n",
    "                \n",
    "        mean = round(s/count,2)\n",
    "        spo2_mean.append(mean)\n",
    "        i=i+count\n",
    "    return(spo2_mean)\n",
    "#spo2_mean"
   ]
  },
  {
   "cell_type": "code",
   "execution_count": 22,
   "id": "806939e9",
   "metadata": {},
   "outputs": [
    {
     "data": {
      "text/html": [
       "<div>\n",
       "<style scoped>\n",
       "    .dataframe tbody tr th:only-of-type {\n",
       "        vertical-align: middle;\n",
       "    }\n",
       "\n",
       "    .dataframe tbody tr th {\n",
       "        vertical-align: top;\n",
       "    }\n",
       "\n",
       "    .dataframe thead th {\n",
       "        text-align: right;\n",
       "    }\n",
       "</style>\n",
       "<table border=\"1\" class=\"dataframe\">\n",
       "  <thead>\n",
       "    <tr style=\"text-align: right;\">\n",
       "      <th></th>\n",
       "      <th>Time</th>\n",
       "      <th>Hour</th>\n",
       "      <th>Minute</th>\n",
       "      <th>Second</th>\n",
       "    </tr>\n",
       "  </thead>\n",
       "  <tbody>\n",
       "    <tr>\n",
       "      <th>0</th>\n",
       "      <td>2022-08-05 03:27:59</td>\n",
       "      <td>3</td>\n",
       "      <td>27</td>\n",
       "      <td>59</td>\n",
       "    </tr>\n",
       "    <tr>\n",
       "      <th>1</th>\n",
       "      <td>2022-08-05 03:28:59</td>\n",
       "      <td>3</td>\n",
       "      <td>28</td>\n",
       "      <td>59</td>\n",
       "    </tr>\n",
       "    <tr>\n",
       "      <th>2</th>\n",
       "      <td>2022-08-05 03:29:59</td>\n",
       "      <td>3</td>\n",
       "      <td>29</td>\n",
       "      <td>59</td>\n",
       "    </tr>\n",
       "    <tr>\n",
       "      <th>3</th>\n",
       "      <td>2022-08-05 03:30:59</td>\n",
       "      <td>3</td>\n",
       "      <td>30</td>\n",
       "      <td>59</td>\n",
       "    </tr>\n",
       "    <tr>\n",
       "      <th>4</th>\n",
       "      <td>2022-08-05 03:31:59</td>\n",
       "      <td>3</td>\n",
       "      <td>31</td>\n",
       "      <td>59</td>\n",
       "    </tr>\n",
       "  </tbody>\n",
       "</table>\n",
       "</div>"
      ],
      "text/plain": [
       "                  Time  Hour  Minute  Second\n",
       "0  2022-08-05 03:27:59     3      27      59\n",
       "1  2022-08-05 03:28:59     3      28      59\n",
       "2  2022-08-05 03:29:59     3      29      59\n",
       "3  2022-08-05 03:30:59     3      30      59\n",
       "4  2022-08-05 03:31:59     3      31      59"
      ]
     },
     "execution_count": 22,
     "metadata": {},
     "output_type": "execute_result"
    }
   ],
   "source": [
    "data_new = pd.DataFrame()\n",
    "\n",
    "data_new =pd.DataFrame({'Time' : time,\n",
    "                        'Hour' : hour,\n",
    "                        'Minute' : minute,\n",
    "                        'Second' : second })\n",
    "data_new.head()"
   ]
  },
  {
   "cell_type": "code",
   "execution_count": 23,
   "id": "6c203d74",
   "metadata": {},
   "outputs": [
    {
     "data": {
      "text/html": [
       "<div>\n",
       "<style scoped>\n",
       "    .dataframe tbody tr th:only-of-type {\n",
       "        vertical-align: middle;\n",
       "    }\n",
       "\n",
       "    .dataframe tbody tr th {\n",
       "        vertical-align: top;\n",
       "    }\n",
       "\n",
       "    .dataframe thead th {\n",
       "        text-align: right;\n",
       "    }\n",
       "</style>\n",
       "<table border=\"1\" class=\"dataframe\">\n",
       "  <thead>\n",
       "    <tr style=\"text-align: right;\">\n",
       "      <th></th>\n",
       "      <th>Time</th>\n",
       "      <th>Hour</th>\n",
       "      <th>Minute</th>\n",
       "      <th>Second</th>\n",
       "      <th>BPM_mean</th>\n",
       "      <th>SPO2_mean</th>\n",
       "    </tr>\n",
       "  </thead>\n",
       "  <tbody>\n",
       "    <tr>\n",
       "      <th>0</th>\n",
       "      <td>2022-08-05 03:27:59</td>\n",
       "      <td>3</td>\n",
       "      <td>27</td>\n",
       "      <td>59</td>\n",
       "      <td>86.98</td>\n",
       "      <td>92.68</td>\n",
       "    </tr>\n",
       "    <tr>\n",
       "      <th>1</th>\n",
       "      <td>2022-08-05 03:28:59</td>\n",
       "      <td>3</td>\n",
       "      <td>28</td>\n",
       "      <td>59</td>\n",
       "      <td>78.05</td>\n",
       "      <td>97.32</td>\n",
       "    </tr>\n",
       "    <tr>\n",
       "      <th>2</th>\n",
       "      <td>2022-08-05 03:29:59</td>\n",
       "      <td>3</td>\n",
       "      <td>29</td>\n",
       "      <td>59</td>\n",
       "      <td>84.05</td>\n",
       "      <td>96.83</td>\n",
       "    </tr>\n",
       "    <tr>\n",
       "      <th>3</th>\n",
       "      <td>2022-08-05 03:30:59</td>\n",
       "      <td>3</td>\n",
       "      <td>30</td>\n",
       "      <td>59</td>\n",
       "      <td>80.54</td>\n",
       "      <td>97.05</td>\n",
       "    </tr>\n",
       "    <tr>\n",
       "      <th>4</th>\n",
       "      <td>2022-08-05 03:31:59</td>\n",
       "      <td>3</td>\n",
       "      <td>31</td>\n",
       "      <td>59</td>\n",
       "      <td>87.46</td>\n",
       "      <td>96.55</td>\n",
       "    </tr>\n",
       "  </tbody>\n",
       "</table>\n",
       "</div>"
      ],
      "text/plain": [
       "                  Time  Hour  Minute  Second  BPM_mean  SPO2_mean\n",
       "0  2022-08-05 03:27:59     3      27      59     86.98      92.68\n",
       "1  2022-08-05 03:28:59     3      28      59     78.05      97.32\n",
       "2  2022-08-05 03:29:59     3      29      59     84.05      96.83\n",
       "3  2022-08-05 03:30:59     3      30      59     80.54      97.05\n",
       "4  2022-08-05 03:31:59     3      31      59     87.46      96.55"
      ]
     },
     "execution_count": 23,
     "metadata": {},
     "output_type": "execute_result"
    }
   ],
   "source": [
    "for feature in ['BPM','SPO2']:\n",
    "    xy = mean(data,feature)\n",
    "    mn = pd.DataFrame(xy)\n",
    "    data_new = pd.concat([data_new,mn],axis=1)\n",
    "    \n",
    "    \n",
    "data_new.columns = ['Time','Hour','Minute','Second','BPM_mean','SPO2_mean']\n",
    "data_new.head()"
   ]
  },
  {
   "cell_type": "code",
   "execution_count": 24,
   "id": "349c341d",
   "metadata": {},
   "outputs": [
    {
     "data": {
      "text/html": [
       "<div>\n",
       "<style scoped>\n",
       "    .dataframe tbody tr th:only-of-type {\n",
       "        vertical-align: middle;\n",
       "    }\n",
       "\n",
       "    .dataframe tbody tr th {\n",
       "        vertical-align: top;\n",
       "    }\n",
       "\n",
       "    .dataframe thead th {\n",
       "        text-align: right;\n",
       "    }\n",
       "</style>\n",
       "<table border=\"1\" class=\"dataframe\">\n",
       "  <thead>\n",
       "    <tr style=\"text-align: right;\">\n",
       "      <th></th>\n",
       "      <th>Time</th>\n",
       "      <th>Hour</th>\n",
       "      <th>Minute</th>\n",
       "      <th>Second</th>\n",
       "      <th>BPM_mean</th>\n",
       "      <th>SPO2_mean</th>\n",
       "      <th>Condition</th>\n",
       "    </tr>\n",
       "  </thead>\n",
       "  <tbody>\n",
       "    <tr>\n",
       "      <th>0</th>\n",
       "      <td>2022-08-05 03:27:59</td>\n",
       "      <td>3</td>\n",
       "      <td>27</td>\n",
       "      <td>59</td>\n",
       "      <td>86.98</td>\n",
       "      <td>92.68</td>\n",
       "      <td>Critical</td>\n",
       "    </tr>\n",
       "    <tr>\n",
       "      <th>1</th>\n",
       "      <td>2022-08-05 03:28:59</td>\n",
       "      <td>3</td>\n",
       "      <td>28</td>\n",
       "      <td>59</td>\n",
       "      <td>78.05</td>\n",
       "      <td>97.32</td>\n",
       "      <td>Normal</td>\n",
       "    </tr>\n",
       "    <tr>\n",
       "      <th>2</th>\n",
       "      <td>2022-08-05 03:29:59</td>\n",
       "      <td>3</td>\n",
       "      <td>29</td>\n",
       "      <td>59</td>\n",
       "      <td>84.05</td>\n",
       "      <td>96.83</td>\n",
       "      <td>Normal</td>\n",
       "    </tr>\n",
       "    <tr>\n",
       "      <th>3</th>\n",
       "      <td>2022-08-05 03:30:59</td>\n",
       "      <td>3</td>\n",
       "      <td>30</td>\n",
       "      <td>59</td>\n",
       "      <td>80.54</td>\n",
       "      <td>97.05</td>\n",
       "      <td>Normal</td>\n",
       "    </tr>\n",
       "    <tr>\n",
       "      <th>4</th>\n",
       "      <td>2022-08-05 03:31:59</td>\n",
       "      <td>3</td>\n",
       "      <td>31</td>\n",
       "      <td>59</td>\n",
       "      <td>87.46</td>\n",
       "      <td>96.55</td>\n",
       "      <td>Normal</td>\n",
       "    </tr>\n",
       "  </tbody>\n",
       "</table>\n",
       "</div>"
      ],
      "text/plain": [
       "                  Time  Hour  Minute  Second  BPM_mean  SPO2_mean Condition\n",
       "0  2022-08-05 03:27:59     3      27      59     86.98      92.68  Critical\n",
       "1  2022-08-05 03:28:59     3      28      59     78.05      97.32    Normal\n",
       "2  2022-08-05 03:29:59     3      29      59     84.05      96.83    Normal\n",
       "3  2022-08-05 03:30:59     3      30      59     80.54      97.05    Normal\n",
       "4  2022-08-05 03:31:59     3      31      59     87.46      96.55    Normal"
      ]
     },
     "execution_count": 24,
     "metadata": {},
     "output_type": "execute_result"
    }
   ],
   "source": [
    "data_new.loc[(data_new['BPM_mean'] == 0.00), 'Condition'] = 'Dead' \n",
    "\n",
    "data_new.loc[((data_new['BPM_mean'] < 60)|(data_new['BPM_mean'] > 100)) | \n",
    "             ((data_new['SPO2_mean'] < 94)|(data_new['SPO2_mean'] > 100)), 'Condition'] = 'Critical'\n",
    "\n",
    "data_new.loc[((data_new['BPM_mean'] >= 60)&(data_new['BPM_mean'] <= 100)) & \n",
    "             ((data_new['SPO2_mean'] >= 94)&(data_new['SPO2_mean'] <= 99)), 'Condition'] = 'Normal' \n",
    "\n",
    "data_new.head()"
   ]
  },
  {
   "cell_type": "code",
   "execution_count": 25,
   "id": "e8753cca",
   "metadata": {},
   "outputs": [],
   "source": [
    "data_new.to_csv('PPG_work.csv')"
   ]
  },
  {
   "cell_type": "code",
   "execution_count": 26,
   "id": "4d26b2e5",
   "metadata": {},
   "outputs": [],
   "source": [
    "data_new = pd.read_csv('C:/Users/SOUVIK/Downloads/PPG_work.csv')\n",
    "data_new.drop('Unnamed: 0',axis=1,inplace=True)\n",
    "\n",
    "data_new['Time'] = pd.to_datetime(data_new['Time'])"
   ]
  },
  {
   "cell_type": "code",
   "execution_count": 27,
   "id": "8a9677c8",
   "metadata": {},
   "outputs": [
    {
     "data": {
      "text/plain": [
       "Text(0.5, 1.0, 'Count of number of Target Feature')"
      ]
     },
     "execution_count": 27,
     "metadata": {},
     "output_type": "execute_result"
    },
    {
     "data": {
      "image/png": "[encoded data removed]",
      "text/plain": [
       "<Figure size 432x288 with 1 Axes>"
      ]
     },
     "metadata": {
      "needs_background": "light"
     },
     "output_type": "display_data"
    }
   ],
   "source": [
    "sns.countplot(x = data_new['Condition'])\n",
    "plt.title('Count of number of Target Feature')"
   ]
  },
  {
   "cell_type": "code",
   "execution_count": 28,
   "id": "c3c000db",
   "metadata": {},
   "outputs": [
    {
     "data": {
      "text/plain": [
       "Text(0.5, 1.0, 'Percentge share of Target Feature')"
      ]
     },
     "execution_count": 28,
     "metadata": {},
     "output_type": "execute_result"
    },
    {
     "data": {
      "image/png": "[encoded data removed]",
      "text/plain": [
       "<Figure size 432x288 with 1 Axes>"
      ]
     },
     "metadata": {},
     "output_type": "display_data"
    }
   ],
   "source": [
    "data_new['Condition'].value_counts().plot(kind='pie',autopct='%.2f')\n",
    "plt.title('Percentge share of Target Feature')"
   ]
  },
  {
   "cell_type": "code",
   "execution_count": 29,
   "id": "a584b789",
   "metadata": {},
   "outputs": [
    {
     "data": {
      "text/plain": [
       "<AxesSubplot:xlabel='Time', ylabel='BPM_mean'>"
      ]
     },
     "execution_count": 29,
     "metadata": {},
     "output_type": "execute_result"
    },
    {
     "data": {
      "image/png": "[encoded data removed]",
      "text/plain": [
       "<Figure size 432x288 with 1 Axes>"
      ]
     },
     "metadata": {
      "needs_background": "light"
     },
     "output_type": "display_data"
    }
   ],
   "source": [
    "sns.scatterplot(x = data_new['Time'], y = data_new['BPM_mean'],hue = data_new['Condition'])"
   ]
  },
  {
   "cell_type": "code",
   "execution_count": 30,
   "id": "dd327cfc",
   "metadata": {},
   "outputs": [
    {
     "data": {
      "text/plain": [
       "<AxesSubplot:xlabel='Time', ylabel='SPO2_mean'>"
      ]
     },
     "execution_count": 30,
     "metadata": {},
     "output_type": "execute_result"
    },
    {
     "data": {
      "image/png": "[encoded data removed]",
      "text/plain": [
       "<Figure size 432x288 with 1 Axes>"
      ]
     },
     "metadata": {
      "needs_background": "light"
     },
     "output_type": "display_data"
    }
   ],
   "source": [
    "sns.scatterplot(x = data_new['Time'], y = data_new['SPO2_mean'],hue = data_new['Condition'])"
   ]
  },
  {
   "cell_type": "code",
   "execution_count": 31,
   "id": "e121a586",
   "metadata": {},
   "outputs": [
    {
     "data": {
      "text/html": [
       "<div>\n",
       "<style scoped>\n",
       "    .dataframe tbody tr th:only-of-type {\n",
       "        vertical-align: middle;\n",
       "    }\n",
       "\n",
       "    .dataframe tbody tr th {\n",
       "        vertical-align: top;\n",
       "    }\n",
       "\n",
       "    .dataframe thead th {\n",
       "        text-align: right;\n",
       "    }\n",
       "</style>\n",
       "<table border=\"1\" class=\"dataframe\">\n",
       "  <thead>\n",
       "    <tr style=\"text-align: right;\">\n",
       "      <th></th>\n",
       "      <th>Time</th>\n",
       "      <th>Hour</th>\n",
       "      <th>Minute</th>\n",
       "      <th>Second</th>\n",
       "      <th>BPM_mean</th>\n",
       "      <th>SPO2_mean</th>\n",
       "      <th>Condition</th>\n",
       "    </tr>\n",
       "  </thead>\n",
       "  <tbody>\n",
       "    <tr>\n",
       "      <th>0</th>\n",
       "      <td>2022-05-08 03:27:00</td>\n",
       "      <td>3</td>\n",
       "      <td>27</td>\n",
       "      <td>59</td>\n",
       "      <td>86.98</td>\n",
       "      <td>92.68</td>\n",
       "      <td>0</td>\n",
       "    </tr>\n",
       "    <tr>\n",
       "      <th>1</th>\n",
       "      <td>2022-05-08 03:28:00</td>\n",
       "      <td>3</td>\n",
       "      <td>28</td>\n",
       "      <td>59</td>\n",
       "      <td>78.05</td>\n",
       "      <td>97.32</td>\n",
       "      <td>1</td>\n",
       "    </tr>\n",
       "    <tr>\n",
       "      <th>2</th>\n",
       "      <td>2022-05-08 03:29:00</td>\n",
       "      <td>3</td>\n",
       "      <td>29</td>\n",
       "      <td>59</td>\n",
       "      <td>84.05</td>\n",
       "      <td>96.83</td>\n",
       "      <td>1</td>\n",
       "    </tr>\n",
       "    <tr>\n",
       "      <th>3</th>\n",
       "      <td>2022-05-08 03:30:00</td>\n",
       "      <td>3</td>\n",
       "      <td>30</td>\n",
       "      <td>59</td>\n",
       "      <td>80.54</td>\n",
       "      <td>97.05</td>\n",
       "      <td>1</td>\n",
       "    </tr>\n",
       "    <tr>\n",
       "      <th>4</th>\n",
       "      <td>2022-05-08 03:31:00</td>\n",
       "      <td>3</td>\n",
       "      <td>31</td>\n",
       "      <td>59</td>\n",
       "      <td>87.46</td>\n",
       "      <td>96.55</td>\n",
       "      <td>1</td>\n",
       "    </tr>\n",
       "  </tbody>\n",
       "</table>\n",
       "</div>"
      ],
      "text/plain": [
       "                 Time  Hour  Minute  Second  BPM_mean  SPO2_mean  Condition\n",
       "0 2022-05-08 03:27:00     3      27      59     86.98      92.68          0\n",
       "1 2022-05-08 03:28:00     3      28      59     78.05      97.32          1\n",
       "2 2022-05-08 03:29:00     3      29      59     84.05      96.83          1\n",
       "3 2022-05-08 03:30:00     3      30      59     80.54      97.05          1\n",
       "4 2022-05-08 03:31:00     3      31      59     87.46      96.55          1"
      ]
     },
     "execution_count": 31,
     "metadata": {},
     "output_type": "execute_result"
    }
   ],
   "source": [
    "le=preprocessing.LabelEncoder()\n",
    "le.fit(['Critical','Normal'])\n",
    "y=pd.DataFrame()\n",
    "data_new['Condition'] = le.transform(data_new['Condition'])\n",
    "\n",
    "data_new.head()"
   ]
  },
  {
   "cell_type": "code",
   "execution_count": 32,
   "id": "34521469",
   "metadata": {},
   "outputs": [
    {
     "data": {
      "text/plain": [
       "<AxesSubplot:>"
      ]
     },
     "execution_count": 32,
     "metadata": {},
     "output_type": "execute_result"
    },
    {
     "data": {
      "image/png": "[encoded data removed]",
      "text/plain": [
       "<Figure size 720x504 with 2 Axes>"
      ]
     },
     "metadata": {
      "needs_background": "light"
     },
     "output_type": "display_data"
    }
   ],
   "source": [
    "corr = data_new.corr()\n",
    "plt.figure(figsize=(10,7))\n",
    "sns.heatmap(corr, annot=True, cmap='coolwarm')"
   ]
  },
  {
   "cell_type": "code",
   "execution_count": 33,
   "id": "3ea1a52a",
   "metadata": {},
   "outputs": [
    {
     "name": "stdout",
     "output_type": "stream",
     "text": [
      "<class 'pandas.core.frame.DataFrame'>\n",
      "RangeIndex: 63 entries, 0 to 62\n",
      "Data columns (total 7 columns):\n",
      " #   Column     Non-Null Count  Dtype         \n",
      "---  ------     --------------  -----         \n",
      " 0   Time       63 non-null     datetime64[ns]\n",
      " 1   Hour       63 non-null     int64         \n",
      " 2   Minute     63 non-null     int64         \n",
      " 3   Second     63 non-null     int64         \n",
      " 4   BPM_mean   63 non-null     float64       \n",
      " 5   SPO2_mean  63 non-null     float64       \n",
      " 6   Condition  63 non-null     int32         \n",
      "dtypes: datetime64[ns](1), float64(2), int32(1), int64(3)\n",
      "memory usage: 3.3 KB\n"
     ]
    }
   ],
   "source": [
    "data_new.info()"
   ]
  },
  {
   "cell_type": "code",
   "execution_count": 34,
   "id": "6c714137",
   "metadata": {},
   "outputs": [],
   "source": [
    "from sklearn.preprocessing import LabelEncoder\n",
    "from sklearn.model_selection import train_test_split\n",
    "from sklearn.metrics import confusion_matrix, accuracy_score, classification_report"
   ]
  },
  {
   "cell_type": "code",
   "execution_count": 35,
   "id": "5169937c",
   "metadata": {},
   "outputs": [],
   "source": [
    "x = data_new[['Hour','Minute','Second','BPM_mean','SPO2_mean']]\n",
    "\n",
    "y = data_new['Condition']"
   ]
  },
  {
   "cell_type": "code",
   "execution_count": 36,
   "id": "39159155",
   "metadata": {},
   "outputs": [
    {
     "name": "stdout",
     "output_type": "stream",
     "text": [
      "Tota train rows 50\n",
      "Tota test rows 13\n"
     ]
    }
   ],
   "source": [
    "x_train, x_test, y_train, y_test = train_test_split(x, y, test_size = 0.20, random_state = 42)\n",
    "\n",
    "print('Tota train rows {}'.format(len(x_train)))\n",
    "print('Tota test rows {}'.format(len(x_test)))"
   ]
  },
  {
   "cell_type": "code",
   "execution_count": 37,
   "id": "f5abfe4f",
   "metadata": {},
   "outputs": [],
   "source": [
    "# Training model using Decision Tree Classifier\n",
    "\n",
    "def training_model():\n",
    "    from sklearn.tree import DecisionTreeClassifier\n",
    "    classifier = DecisionTreeClassifier(random_state=42)\n",
    "    classifier.fit(x_train, y_train)\n",
    "    return classifier"
   ]
  },
  {
   "cell_type": "code",
   "execution_count": 38,
   "id": "19458f4c",
   "metadata": {},
   "outputs": [],
   "source": [
    "model = training_model()"
   ]
  },
  {
   "cell_type": "code",
   "execution_count": 39,
   "id": "ec97d311",
   "metadata": {},
   "outputs": [
    {
     "name": "stdout",
     "output_type": "stream",
     "text": [
      "              precision    recall  f1-score   support\n",
      "\n",
      "    Critical       1.00      1.00      1.00         6\n",
      "      Normal       1.00      1.00      1.00        44\n",
      "\n",
      "    accuracy                           1.00        50\n",
      "   macro avg       1.00      1.00      1.00        50\n",
      "weighted avg       1.00      1.00      1.00        50\n",
      "\n",
      "[[ 6  0]\n",
      " [ 0 44]]\n",
      "\n",
      "Accuracy of train set 100.0%\n"
     ]
    }
   ],
   "source": [
    "#Visualizing the performace of the model\n",
    "y_pred_train = model.predict(x_train)\n",
    "\n",
    "#Printing the classification_report\n",
    "print(classification_report(y_train, y_pred_train,\n",
    "                            target_names = ['Critical','Normal']))\n",
    "\n",
    "#Printing the confusion_matrix\n",
    "cm = confusion_matrix(y_train , y_pred_train)\n",
    "print(cm)\n",
    "\n",
    "#Printing the accuracy score\n",
    "acc_score = accuracy_score(y_pred_train , y_train)\n",
    "acc_score = acc_score*100\n",
    "print('\\nAccuracy of train set {}%'.format(acc_score))"
   ]
  },
  {
   "cell_type": "code",
   "execution_count": 40,
   "id": "6313c15c",
   "metadata": {},
   "outputs": [
    {
     "name": "stdout",
     "output_type": "stream",
     "text": [
      "              precision    recall  f1-score   support\n",
      "\n",
      "    Critical       1.00      1.00      1.00         5\n",
      "      Normal       1.00      1.00      1.00         8\n",
      "\n",
      "    accuracy                           1.00        13\n",
      "   macro avg       1.00      1.00      1.00        13\n",
      "weighted avg       1.00      1.00      1.00        13\n",
      "\n",
      "[[5 0]\n",
      " [0 8]]\n",
      "\n",
      "Accuracy of test set 100.0%\n"
     ]
    }
   ],
   "source": [
    "#Visualizing the performace of the model\n",
    "y_pred_test = model.predict(x_test)\n",
    "\n",
    "#Printing the classification_report\n",
    "print(classification_report(y_test, y_pred_test,\n",
    "                            target_names = ['Critical','Normal']))\n",
    "\n",
    "#Printing the confusion_matrix\n",
    "cm = confusion_matrix(y_test , y_pred_test)\n",
    "print(cm)\n",
    "\n",
    "#Printing the accuracy score\n",
    "acc_score = accuracy_score(y_pred_test , y_test)\n",
    "acc_score = acc_score*100\n",
    "print('\\nAccuracy of test set {}%'.format(acc_score))"
   ]
  },
  {
   "cell_type": "code",
   "execution_count": 41,
   "id": "31808c06",
   "metadata": {},
   "outputs": [
    {
     "data": {
      "text/html": [
       "<div>\n",
       "<style scoped>\n",
       "    .dataframe tbody tr th:only-of-type {\n",
       "        vertical-align: middle;\n",
       "    }\n",
       "\n",
       "    .dataframe tbody tr th {\n",
       "        vertical-align: top;\n",
       "    }\n",
       "\n",
       "    .dataframe thead th {\n",
       "        text-align: right;\n",
       "    }\n",
       "</style>\n",
       "<table border=\"1\" class=\"dataframe\">\n",
       "  <thead>\n",
       "    <tr style=\"text-align: right;\">\n",
       "      <th></th>\n",
       "      <th>Hour</th>\n",
       "      <th>Minute</th>\n",
       "      <th>Second</th>\n",
       "      <th>BPM_mean</th>\n",
       "      <th>SPO2_mean</th>\n",
       "    </tr>\n",
       "  </thead>\n",
       "  <tbody>\n",
       "    <tr>\n",
       "      <th>0</th>\n",
       "      <td>3</td>\n",
       "      <td>27</td>\n",
       "      <td>59</td>\n",
       "      <td>86.98</td>\n",
       "      <td>92.68</td>\n",
       "    </tr>\n",
       "    <tr>\n",
       "      <th>1</th>\n",
       "      <td>3</td>\n",
       "      <td>28</td>\n",
       "      <td>59</td>\n",
       "      <td>78.05</td>\n",
       "      <td>97.32</td>\n",
       "    </tr>\n",
       "    <tr>\n",
       "      <th>2</th>\n",
       "      <td>3</td>\n",
       "      <td>29</td>\n",
       "      <td>59</td>\n",
       "      <td>84.05</td>\n",
       "      <td>96.83</td>\n",
       "    </tr>\n",
       "    <tr>\n",
       "      <th>3</th>\n",
       "      <td>3</td>\n",
       "      <td>30</td>\n",
       "      <td>59</td>\n",
       "      <td>80.54</td>\n",
       "      <td>97.05</td>\n",
       "    </tr>\n",
       "    <tr>\n",
       "      <th>4</th>\n",
       "      <td>3</td>\n",
       "      <td>31</td>\n",
       "      <td>59</td>\n",
       "      <td>87.46</td>\n",
       "      <td>96.55</td>\n",
       "    </tr>\n",
       "  </tbody>\n",
       "</table>\n",
       "</div>"
      ],
      "text/plain": [
       "   Hour  Minute  Second  BPM_mean  SPO2_mean\n",
       "0     3      27      59     86.98      92.68\n",
       "1     3      28      59     78.05      97.32\n",
       "2     3      29      59     84.05      96.83\n",
       "3     3      30      59     80.54      97.05\n",
       "4     3      31      59     87.46      96.55"
      ]
     },
     "execution_count": 41,
     "metadata": {},
     "output_type": "execute_result"
    }
   ],
   "source": [
    "x.head()"
   ]
  },
  {
   "cell_type": "code",
   "execution_count": 42,
   "id": "d0c70cc5",
   "metadata": {},
   "outputs": [],
   "source": [
    "def check_data():\n",
    "    hour = int(input('Enter the current hour : '))\n",
    "    minute = int(input('Enter the current minute : '))\n",
    "    second = int(input('Enter the current second : '))\n",
    "    bpm_mean = float(input('What is your current BPM : '))\n",
    "    spo2_mean = float(input('What is your current SPO2 : '))\n",
    "    d = [[hour,minute,second,bpm_mean,spo2_mean]]\n",
    "    pd.DataFrame(d)\n",
    "    prediction = model.predict(d)\n",
    "    normal = 'Your health condition is normal'\n",
    "    critical = 'Your health condition is critical'\n",
    "    \n",
    "    if prediction == 0:\n",
    "            return critical\n",
    "    elif prediction == 1:\n",
    "            return normal"
   ]
  },
  {
   "cell_type": "code",
   "execution_count": 43,
   "id": "5125dfb0",
   "metadata": {},
   "outputs": [
    {
     "name": "stdout",
     "output_type": "stream",
     "text": [
      "Enter the current hour : 12\n",
      "Enter the current minute : 23\n",
      "Enter the current second : 21\n",
      "What is your current BPM : 56\n",
      "What is your current SPO2 : 36\n"
     ]
    },
    {
     "data": {
      "text/plain": [
       "'Your health condition is critical'"
      ]
     },
     "execution_count": 43,
     "metadata": {},
     "output_type": "execute_result"
    }
   ],
   "source": [
    "check_data()"
   ]
  },
  {
   "cell_type": "code",
   "execution_count": null,
   "id": "e55246ad",
   "metadata": {},
   "outputs": [],
   "source": []
  },
  {
   "cell_type": "code",
   "execution_count": null,
   "id": "a038bcd8",
   "metadata": {},
   "outputs": [],
   "source": []
  },
  {
   "cell_type": "code",
   "execution_count": null,
   "id": "92e1e12d",
   "metadata": {},
   "outputs": [],
   "source": []
  }
 ],
 "metadata": {
  "kernelspec": {
   "display_name": "Python 3 (ipykernel)",
   "language": "python",
   "name": "python3"
  },
  "language_info": {
   "codemirror_mode": {
    "name": "ipython",
    "version": 3
   },
   "file_extension": ".py",
   "mimetype": "text/x-python",
   "name": "python",
   "nbconvert_exporter": "python",
   "pygments_lexer": "ipython3",
   "version": "3.9.7"
  }
 },
 "nbformat": 4,
 "nbformat_minor": 5
}
